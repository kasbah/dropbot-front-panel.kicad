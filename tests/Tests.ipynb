{
 "cells": [
  {
   "cell_type": "code",
   "execution_count": 1,
   "id": "1eabbf60-ad42-4401-88c4-5c7717d02a0d",
   "metadata": {},
   "outputs": [],
   "source": [
    "import os\n",
    "\n",
    "from kicad_helpers import get_schematic_path, get_bom_path, get_project_name\n",
    "from kicad_helpers.test import test_erc, test_drc, validate_bom"
   ]
  },
  {
   "cell_type": "code",
   "execution_count": 2,
   "id": "4570fe70-5993-4a18-95b0-bac49bd0bd21",
   "metadata": {},
   "outputs": [],
   "source": [
    "assert os.path.exists(get_schematic_path()) # Check that schematic exists\n",
    "assert os.path.exists(get_bom_path()) # Check that the BOM exists\n",
    "assert \" \" not in get_project_name() # Check that there are no spaces in the project name"
   ]
  },
  {
   "cell_type": "code",
   "execution_count": 3,
   "id": "aa6e5d5a-3204-4b34-81fe-533906636dcb",
   "metadata": {},
   "outputs": [
    {
     "name": "stdout",
     "output_type": "stream",
     "text": [
      "WARNING:(W008) Unable to find KiCad configuration file (/home/docker/.config/kicad/kicad_common) (kibot.kibot.kicad.config - log.py:82)\n",
      "WARNING:(W011) Missing default symbol library table (kibot.kibot.kicad.config - log.py:82)\n",
      "- Running the ERC\n",
      "WARNING:(W058) Missing KiCad main config file /home/docker/.config/kicad/kicad_common (eeschema_do - misc.py:169) (kibot.kibot.kiplot - log.py:82)\n",
      "ERROR:12 ERC errors detected (eeschema_do - eeschema_do:631) (kibot.kibot.kiplot - kiplot.py:145)\n",
      "ERROR:(8) Global label not connected to any other global label\n",
      "    @(30.48 mm, 82.55 mm): Global label +12V_SUPPLY is not connected to any other global label. (eeschema_do.kiauto.file_util - file_util.py:128) (kibot.kibot.kiplot - kiplot.py:145)\n",
      "ERROR:(3) Pin connected to other pins, but not driven by any pin\n",
      "    @(248.92 mm, 30.48 mm): Pin 6 (Power input) of component U1 is not driven (Net 29). (eeschema_do.kiauto.file_util - file_util.py:128) (kibot.kibot.kiplot - kiplot.py:145)\n",
      "ERROR:(3) Pin connected to other pins, but not driven by any pin\n",
      "    @(233.68 mm, 27.94 mm): Pin 2 (Power input) of component U1 is not driven (Net 65). (eeschema_do.kiauto.file_util - file_util.py:128) (kibot.kibot.kiplot - kiplot.py:145)\n",
      "ERROR:(3) Pin connected to other pins, but not driven by any pin\n",
      "    @(233.68 mm, 30.48 mm): Pin 3 (Power input) of component U1 is not driven (Net 66). (eeschema_do.kiauto.file_util - file_util.py:128) (kibot.kibot.kiplot - kiplot.py:145)\n",
      "ERROR:(3) Pin connected to other pins, but not driven by any pin\n",
      "    @(248.92 mm, 27.94 mm): Pin 7 (Power input) of component U1 is not driven (Net 67). (eeschema_do.kiauto.file_util - file_util.py:128) (kibot.kibot.kiplot - kiplot.py:145)\n",
      "ERROR:(3) Pin connected to other pins, but not driven by any pin\n",
      "    @(248.92 mm, 25.40 mm): Pin 8 (Power input) of component U1 is not driven (Net 69). (eeschema_do.kiauto.file_util - file_util.py:128) (kibot.kibot.kiplot - kiplot.py:145)\n",
      "ERROR:(3) Pin connected to other pins, but not driven by any pin\n",
      "    @(233.68 mm, 33.02 mm): Pin 4 (Power input) of component U1 is not driven (Net 72). (eeschema_do.kiauto.file_util - file_util.py:128) (kibot.kibot.kiplot - kiplot.py:145)\n",
      "ERROR:(3) Pin connected to other pins, but not driven by any pin\n",
      "    @(248.92 mm, 33.02 mm): Pin 5 (Power input) of component U1 is not driven (Net 77). (eeschema_do.kiauto.file_util - file_util.py:128) (kibot.kibot.kiplot - kiplot.py:145)\n",
      "ERROR:(2) Pin not connected (use a \"no connection\" flag to suppress this error)\n",
      "    @(156.21 mm, 102.87 mm): Pin 2 (Passive) of component P5 is unconnected. (eeschema_do.kiauto.file_util - file_util.py:128) (kibot.kibot.kiplot - kiplot.py:145)\n",
      "ERROR:(8) Global label not connected to any other global label\n",
      "    @(156.21 mm, 102.87 mm): Global label CH-X1 is not connected to any other global label. (eeschema_do.kiauto.file_util - file_util.py:128) (kibot.kibot.kiplot - kiplot.py:145)\n",
      "ERROR:(8) Global label not connected to any other global label\n",
      "    @(143.51 mm, 102.87 mm): Global label CH-X2 is not connected to any other global label. (eeschema_do.kiauto.file_util - file_util.py:128) (kibot.kibot.kiplot - kiplot.py:145)\n",
      "ERROR:(2) Pin not connected (use a \"no connection\" flag to suppress this error)\n",
      "    @(143.51 mm, 102.87 mm): Pin 1 (Passive) of component P5 is unconnected. (eeschema_do.kiauto.file_util - file_util.py:128) (kibot.kibot.kiplot - kiplot.py:145)\n",
      "ERROR:ERC errors: 12 (kibot.kibot.pre_erc - pre_erc.py:63)\n",
      "\n",
      "returncode = 10\n"
     ]
    },
    {
     "ename": "AssertionError",
     "evalue": "",
     "output_type": "error",
     "traceback": [
      "\u001b[0;31m---------------------------------------------------------------------------\u001b[0m",
      "\u001b[0;31mAssertionError\u001b[0m                            Traceback (most recent call last)",
      "\u001b[0;32m/tmp/ipykernel_25202/1999007752.py\u001b[0m in \u001b[0;36m<module>\u001b[0;34m\u001b[0m\n\u001b[0;32m----> 1\u001b[0;31m \u001b[0mtest_erc\u001b[0m\u001b[0;34m(\u001b[0m\u001b[0;34m)\u001b[0m\u001b[0;34m\u001b[0m\u001b[0;34m\u001b[0m\u001b[0m\n\u001b[0m",
      "\u001b[0;32m~/dev/python/kicad-helpers/kicad_helpers/test.py\u001b[0m in \u001b[0;36mtest_erc\u001b[0;34m(root)\u001b[0m\n\u001b[1;32m     28\u001b[0m     \u001b[0;32mif\u001b[0m \u001b[0mos\u001b[0m\u001b[0;34m.\u001b[0m\u001b[0mpath\u001b[0m\u001b[0;34m.\u001b[0m\u001b[0mexists\u001b[0m\u001b[0;34m(\u001b[0m\u001b[0merc_path\u001b[0m\u001b[0;34m)\u001b[0m\u001b[0;34m:\u001b[0m\u001b[0;34m\u001b[0m\u001b[0;34m\u001b[0m\u001b[0m\n\u001b[1;32m     29\u001b[0m         \u001b[0mos\u001b[0m\u001b[0;34m.\u001b[0m\u001b[0mremove\u001b[0m\u001b[0;34m(\u001b[0m\u001b[0merc_path\u001b[0m\u001b[0;34m)\u001b[0m\u001b[0;34m\u001b[0m\u001b[0;34m\u001b[0m\u001b[0m\n\u001b[0;32m---> 30\u001b[0;31m     \u001b[0;32massert\u001b[0m \u001b[0mreturncode\u001b[0m \u001b[0;34m==\u001b[0m \u001b[0;36m0\u001b[0m\u001b[0;34m\u001b[0m\u001b[0;34m\u001b[0m\u001b[0m\n\u001b[0m\u001b[1;32m     31\u001b[0m \u001b[0;34m\u001b[0m\u001b[0m\n\u001b[1;32m     32\u001b[0m \u001b[0;31m# Cell\u001b[0m\u001b[0;34m\u001b[0m\u001b[0;34m\u001b[0m\u001b[0m\n",
      "\u001b[0;31mAssertionError\u001b[0m: "
     ]
    }
   ],
   "source": [
    "test_erc()"
   ]
  },
  {
   "cell_type": "code",
   "execution_count": null,
   "id": "9dec90da-a917-43f4-9796-db471a368693",
   "metadata": {},
   "outputs": [],
   "source": [
    "test_drc()"
   ]
  },
  {
   "cell_type": "code",
   "execution_count": null,
   "id": "905e4504-d4f9-418c-8dda-c7227ba5401f",
   "metadata": {},
   "outputs": [],
   "source": [
    "validate_bom()"
   ]
  },
  {
   "cell_type": "code",
   "execution_count": null,
   "id": "43fe276c-105b-46b8-80e8-e98aac846839",
   "metadata": {},
   "outputs": [],
   "source": []
  }
 ],
 "metadata": {
  "kernelspec": {
   "display_name": "Python 3 (ipykernel)",
   "language": "python",
   "name": "python3"
  },
  "language_info": {
   "codemirror_mode": {
    "name": "ipython",
    "version": 3
   },
   "file_extension": ".py",
   "mimetype": "text/x-python",
   "name": "python",
   "nbconvert_exporter": "python",
   "pygments_lexer": "ipython3",
   "version": "3.9.7"
  }
 },
 "nbformat": 4,
 "nbformat_minor": 5
}
